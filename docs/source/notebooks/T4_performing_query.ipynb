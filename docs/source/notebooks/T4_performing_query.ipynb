{
 "cells": [
  {
   "cell_type": "markdown",
   "metadata": {},
   "source": [
    "# Tutorial 3. Performing queries\n",
    "In this tutorial, we will correct sampling distortions. Let's setup the simple layer object."
   ]
  },
  {
   "cell_type": "code",
   "execution_count": null,
   "metadata": {},
   "outputs": [],
   "source": [
    "import numpy as np\n",
    "from pyxc.core.layer import Layer\n",
    "from pyxc.core.processor.arrays import column_parser\n",
    "from pyxc.core.container import Container2D\n",
    "from pyxc.core.loader import ImageLoader, XYDLoader\n",
    "from pyxc.transform.homography import Homography\n",
    "\n",
    "EBSD = np.genfromtxt(\n",
    "    \"./data/SiC_in_NiSA.ctf\", dtype=float, skip_header=15, delimiter=\"\\t\", names=True\n",
    ")\n",
    "\n",
    "layer_ebsd = Layer(\n",
    "    data=column_parser(EBSD, format_string=\"dxydddddddd\"),\n",
    "    container=Container2D,\n",
    "    dataloader=XYDLoader,\n",
    "    transformer=Homography,\n",
    ")"
   ]
  },
  {
   "cell_type": "markdown",
   "metadata": {},
   "source": [
    "You have two choices to query data. You can either query by single a coordinate or multiple coordinates.\n",
    "\n",
    "The first option provides better flexibility. You can receive correlation results and you can run your own analysis. The second option provides better convenience but is rather limited.\n",
    "\n",
    "Let's see!"
   ]
  },
  {
   "cell_type": "markdown",
   "metadata": {},
   "source": [
    "## Single point query\n",
    "You can query the data by a single object. Several columns are additionally provided along with the columns contained in the container object.\n",
    "1. query_index: for internal reference. This will be dealt little later.\n",
    "2. distance: Euclidean distance between given coordinate and nearby point.\n",
    "3. x-coordinates: query x coordinate\n",
    "4. y-coordinates: query y coordinate\n",
    "\n",
    "Also, note that we've got several x and y related columns. Read this carefully:\n",
    "1. x: distortion-corrected x\n",
    "2. y: distortion_corrected y\n",
    "3. x_raw: initially supplied x value, before correction.\n",
    "4. Y_raw: initially supplied y value, before correction.\n",
    "5. x-coordinates: x for query\n",
    "6. y-coordinates: y for query"
   ]
  },
  {
   "cell_type": "code",
   "execution_count": null,
   "metadata": {},
   "outputs": [],
   "source": [
    "layer_ebsd.query(5, 5)"
   ]
  },
  {
   "cell_type": "markdown",
   "metadata": {},
   "source": [
    "There are two important options, cut-off and output_number. If your data points' nearest neighbour distances are larger than a specific cutoff, you might not get results. For example,"
   ]
  },
  {
   "cell_type": "code",
   "execution_count": null,
   "metadata": {},
   "outputs": [],
   "source": [
    "layer_ebsd.query(5, 5, cutoff=0.0001)"
   ]
  },
  {
   "cell_type": "markdown",
   "metadata": {},
   "source": [
    "Furthermore, you can get more datapoints, if you want, by explicitly specifying the cut-off and output_number parameters."
   ]
  },
  {
   "cell_type": "code",
   "execution_count": null,
   "metadata": {},
   "outputs": [],
   "source": [
    "layer_ebsd.query(x=5, y=5, cutoff=5, output_number=5)"
   ]
  },
  {
   "cell_type": "markdown",
   "metadata": {},
   "source": [
    "## Multi point query\n",
    "Let's do it more conveniently! You can retrieve data from multiple points at once. If data is large, `execute_queries` might take approximately one or two minutes, but it is perfectly normal. It is preparing parallel execution."
   ]
  },
  {
   "cell_type": "code",
   "execution_count": null,
   "metadata": {},
   "outputs": [],
   "source": [
    "xs = [4.1, 4.2, 4.3]\n",
    "ys = [4.5, 4.6, 4.7]\n",
    "layer_ebsd.execute_queries(xs, ys)"
   ]
  },
  {
   "cell_type": "markdown",
   "metadata": {},
   "source": [
    "### Use `query_index` column to filter out not correlated points!\n",
    "\n",
    "<div class=\"alert alert-warning\">\n",
    "\n",
    "Warning\n",
    "\n",
    "See the code below very carefully. There is no guarantee that all points that you have provided yield a correlation result. If the points are too far away from the data point (beyond the cut-off distance), you will not get the result. You will be required to filter out the points that are not hit by using the `query_index` column.\n",
    "\n",
    "</div>\n",
    "This is especially useful when you are comparing correlation results with the serialized data. \n",
    "\n",
    "Let's assume we have `xs, ys`, and hardness. For example, data provided below means we have 100 MPa hardness point at the (4.1, 4.5). The 4th point (-10, -10, 150) is deliberately set to not existing point."
   ]
  },
  {
   "cell_type": "code",
   "execution_count": null,
   "metadata": {},
   "outputs": [],
   "source": [
    "xs = np.array([4.1, 4.2, 4.3, -10])\n",
    "ys = np.array([4.5, 4.6, 4.7, -10])\n",
    "hd = np.array([100, 200, 110, 150])\n",
    "result = layer_ebsd.execute_queries(xs, ys)"
   ]
  },
  {
   "cell_type": "code",
   "execution_count": null,
   "metadata": {},
   "outputs": [],
   "source": [
    "result"
   ]
  },
  {
   "cell_type": "markdown",
   "metadata": {},
   "source": [
    "Now you can see that the provided data has a length of 4, but the returned data only has a length of 3. So it is not directly plottable. In this case, 'query_index' plays a significant role. It can be used to filter out failed data points from the initially provided data, like below:"
   ]
  },
  {
   "cell_type": "code",
   "execution_count": null,
   "metadata": {},
   "outputs": [],
   "source": [
    "xs_refined = xs[result[\"query_index\"]]\n",
    "ys_refined = ys[result[\"query_index\"]]\n",
    "hd_refined = hd[result[\"query_index\"]]"
   ]
  },
  {
   "cell_type": "markdown",
   "metadata": {},
   "source": [
    "Now, you can use the query result with your own hardness data. Such as doing,"
   ]
  },
  {
   "cell_type": "code",
   "execution_count": null,
   "metadata": {},
   "outputs": [],
   "source": [
    "import matplotlib.pyplot as plt\n",
    "\n",
    "plt.scatter(result[\"BC\"], hd_refined)"
   ]
  },
  {
   "cell_type": "markdown",
   "metadata": {},
   "source": [
    "However, one single caveat of this multi-point query cannot handle the situation when the `output_number` is other than 1. If you try to query more than one point, you will get an error."
   ]
  },
  {
   "cell_type": "code",
   "execution_count": null,
   "metadata": {},
   "outputs": [],
   "source": [
    "xs = [4.1, 4.2, 4.3]\n",
    "ys = [4.5, 4.6, 4.7]\n",
    "layer_ebsd.execute_queries(xs, ys, output_number=2)"
   ]
  },
  {
   "cell_type": "markdown",
   "metadata": {},
   "source": [
    "You can specify the reducer to handle this situation. Reducer objecst should be specified from List[Tuple[Callable, List['ColumnNames']]]. Callable should accept 1-dimensional numpy arrays and yields a single value. Such as np.std, np.mean. \n",
    "\n",
    "The Reducer object can be used for a single point query also. It is useful to do statistical analyses on the results."
   ]
  },
  {
   "cell_type": "code",
   "execution_count": null,
   "metadata": {},
   "outputs": [],
   "source": [
    "from pyxc.core.processor.reducer import Reducer\n",
    "\n",
    "reducer_obj = Reducer([(np.mean, [\"BS\", \"Phase\"]), (np.std, [\"BS\", \"Phase\"])])"
   ]
  },
  {
   "cell_type": "markdown",
   "metadata": {},
   "source": [
    "Then, you can do like this. Note that you have got new columns such as \"Phase_std\"."
   ]
  },
  {
   "cell_type": "code",
   "execution_count": null,
   "metadata": {},
   "outputs": [],
   "source": [
    "xs = [4.1, 4.2, 4.3, -10]\n",
    "ys = [4.5, 4.6, 4.7, -10]\n",
    "layer_ebsd.execute_queries(xs, ys, output_number=2, reducer=reducer_obj)"
   ]
  },
  {
   "cell_type": "markdown",
   "metadata": {},
   "source": [
    "## Query performance tip\n",
    "Please use small cut-off and small output_number. As you can see, by reducing the cut-off parameter, the performance enhances for almost 5 times."
   ]
  },
  {
   "cell_type": "code",
   "execution_count": null,
   "metadata": {},
   "outputs": [],
   "source": [
    "%%timeit\n",
    "layer_ebsd.query(5, 5, cutoff=10, output_number=1000)"
   ]
  },
  {
   "cell_type": "code",
   "execution_count": null,
   "metadata": {},
   "outputs": [],
   "source": [
    "%%timeit\n",
    "layer_ebsd.query(5, 5, cutoff=1, output_number=1000)"
   ]
  },
  {
   "cell_type": "code",
   "execution_count": null,
   "metadata": {},
   "outputs": [],
   "source": [
    "%%timeit\n",
    "layer_ebsd.query(5, 5, cutoff=1, output_number=10)"
   ]
  },
  {
   "cell_type": "code",
   "execution_count": null,
   "metadata": {},
   "outputs": [],
   "source": [
    "%%timeit\n",
    "layer_ebsd.query(5, 5, cutoff=1, output_number=1)"
   ]
  }
 ],
 "metadata": {
  "kernelspec": {
   "display_name": "Python 3 (ipykernel)",
   "language": "python",
   "name": "python3"
  },
  "language_info": {
   "codemirror_mode": {
    "name": "ipython",
    "version": 3
   },
   "file_extension": ".py",
   "mimetype": "text/x-python",
   "name": "python",
   "nbconvert_exporter": "python",
   "pygments_lexer": "ipython3"
  }
 },
 "nbformat": 4,
 "nbformat_minor": 1
}
