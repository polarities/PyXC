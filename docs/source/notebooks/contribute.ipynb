{
 "cells": [
  {
   "cell_type": "markdown",
   "metadata": {},
   "source": [
    "# Contribute to this project\n",
    "## Development environment\n",
    "### pip\n",
    "Execute this code in your desired folder location.\n",
    "\n",
    "<!-- Link needs to be changed eventually with the corrected name of the library. -->\n",
    "\n",
    "#### POSIX\n",
    "```bash\n",
    "git clone https://github.com/polarities/XCorr_Collaboration.git\n",
    "cd XCorr_Collaboration\n",
    "python -v venv ./venv\n",
    "source ./venv/bin/activate\n",
    "pip install -r ./development_env.txt\n",
    "```\n",
    "\n",
    "#### Windows\n",
    "```bat\n",
    "git clone https://github.com/polarities/XCorr_Collaboration.git\n",
    "cd XCorr_Collaboration\n",
    "python -v venv ./venv\n",
    "source ./venv/bin/activate\n",
    "pip install -r ./development_env.txt\n",
    "```"
   ]
  }
 ],
 "metadata": {
  "kernelspec": {
   "display_name": "Python 3 (ipykernel)",
   "language": "python",
   "name": "python3"
  },
  "language_info": {
   "codemirror_mode": {
    "name": "ipython",
    "version": 3
   },
   "file_extension": ".py",
   "mimetype": "text/x-python",
   "name": "python",
   "nbconvert_exporter": "python",
   "pygments_lexer": "ipython3"
  }
 },
 "nbformat": 4,
 "nbformat_minor": 1
}
