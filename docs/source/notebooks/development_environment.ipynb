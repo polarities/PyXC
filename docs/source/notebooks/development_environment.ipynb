{
 "cells": [
  {
   "cell_type": "markdown",
   "metadata": {},
   "source": [
    "# Environment information\n",
    "This document was compiled using the environment described below.\n",
    "\n",
    "## Python Version"
   ]
  },
  {
   "cell_type": "code",
   "execution_count": null,
   "metadata": {},
   "outputs": [],
   "source": [
    "import sys\n",
    "\n",
    "print(f\"Python Version: {sys.version}\")"
   ]
  },
  {
   "cell_type": "markdown",
   "metadata": {},
   "source": [
    "## Virtual Environment"
   ]
  },
  {
   "cell_type": "code",
   "execution_count": null,
   "metadata": {},
   "outputs": [],
   "source": [
    "import pkg_resources\n",
    "\n",
    "installed_packages = pkg_resources.working_set\n",
    "installed_packages_list = sorted(\n",
    "    [f\"{pkg.key}=={pkg.version}\" for pkg in installed_packages]\n",
    ")\n",
    "\n",
    "for pkg in installed_packages_list:\n",
    "    print(pkg)"
   ]
  },
  {
   "cell_type": "markdown",
   "metadata": {},
   "source": [
    "## Code execution device specification"
   ]
  },
  {
   "cell_type": "code",
   "execution_count": null,
   "metadata": {},
   "outputs": [],
   "source": [
    "import psutil\n",
    "\n",
    "print(\"CPU:\")\n",
    "print(\n",
    "    f\" - Core: {psutil.cpu_count(logical=False)} (Logical: {psutil.cpu_count(logical=True)})\"\n",
    ")\n",
    "cpufreq = psutil.cpu_freq()\n",
    "print(f\" - Frequency (Max): {psutil.cpu_freq().max:.2f}Mhz\")\n",
    "print(f\" - Frequency (Min): {psutil.cpu_freq().min:.2f}Mhz\")\n",
    "print(\"\\nMemory:\")\n",
    "svmem = psutil.virtual_memory()\n",
    "print(f\" - Total: {svmem.total/1024**2} MB\")"
   ]
  }
 ],
 "metadata": {
  "kernelspec": {
   "display_name": "Python 3 (ipykernel)",
   "language": "python",
   "name": "python3"
  },
  "language_info": {
   "codemirror_mode": {
    "name": "ipython",
    "version": 3
   },
   "file_extension": ".py",
   "mimetype": "text/x-python",
   "name": "python",
   "nbconvert_exporter": "python",
   "pygments_lexer": "ipython3"
  }
 },
 "nbformat": 4,
 "nbformat_minor": 1
}
