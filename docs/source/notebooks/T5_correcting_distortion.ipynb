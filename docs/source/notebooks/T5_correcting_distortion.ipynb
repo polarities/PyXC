{
 "cells": [
  {
   "cell_type": "markdown",
   "metadata": {},
   "source": [
    "# Tutorial 5. Correcting distortions\n",
    "## Calculating transformation matrix\n",
    "Unfortunately, this library does not provide the capability to correct distortion. You may want to use a Python binding of OpenCV to correct distortion.\n",
    "\n",
    "### Affine trasnformation\n",
    "The Affine transformation can be obtained using a three point fitting method. Note that the dtype should be set to float32. Make sure the resulting matrix is in a 3x3 form using an append method."
   ]
  },
  {
   "cell_type": "code",
   "execution_count": null,
   "metadata": {},
   "outputs": [],
   "source": [
    "import cv2\n",
    "import numpy as np\n",
    "\n",
    "src_pts = np.array([[10, 10], [50, 10], [10, 50]], dtype=np.float32)\n",
    "dst_pts = np.array([[20, 20], [60, 20], [20, 60]], dtype=np.float32)\n",
    "\n",
    "transform = cv2.getAffineTransform(src_pts, dst_pts)\n",
    "print(\"shape is not right: \\n\", transform)\n",
    "\n",
    "transform = np.append(\n",
    "    (cv2.getAffineTransform(src_pts, dst_pts)),\n",
    "    [\n",
    "        [0, 0, 1],\n",
    "    ],\n",
    "    axis=0,\n",
    ")\n",
    "print(\"now shape is right: \\n\", transform)"
   ]
  },
  {
   "cell_type": "markdown",
   "metadata": {},
   "source": [
    "### Homography\n",
    "You can obtain Homography in a similar way. But you will need 4 points."
   ]
  },
  {
   "cell_type": "code",
   "execution_count": null,
   "metadata": {},
   "outputs": [],
   "source": [
    "src_pts = np.array([[10, 10], [50, 10], [10, 50], [50, 50]], dtype=np.float32)\n",
    "dst_pts = np.array([[20, 20], [60, 20], [20, 60], [60, 60]], dtype=np.float32)\n",
    "\n",
    "transform = cv2.getPerspectiveTransform(src_pts, dst_pts)\n",
    "print(transform)"
   ]
  },
  {
   "cell_type": "markdown",
   "metadata": {},
   "source": [
    "## Apply transformation matrix\n",
    "You can use the \"Homography\" case generally, since the Affine transformation is a special case of the Homography. However, feel free to use the `Affine2D` class if you need explicit checks."
   ]
  },
  {
   "cell_type": "code",
   "execution_count": null,
   "metadata": {},
   "outputs": [],
   "source": [
    "import numpy as np\n",
    "from pyxc.core.layer import Layer\n",
    "from pyxc.core.processor.arrays import column_parser\n",
    "from pyxc.core.container import Container2D\n",
    "from pyxc.core.loader import ImageLoader, XYDLoader\n",
    "from pyxc.transform.affine2d import Affine2D\n",
    "\n",
    "# Read the data\n",
    "EBSD = np.genfromtxt(\n",
    "    \"./data/SiC_in_NiSA.ctf\", dtype=float, skip_header=15, delimiter=\"\\t\", names=True\n",
    ")\n",
    "\n",
    "# Initialize the layer object\n",
    "layer_ebsd = Layer(\n",
    "    data=column_parser(EBSD, format_string=\"dxydddddddd\"),\n",
    "    container=Container2D,\n",
    "    dataloader=XYDLoader,\n",
    "    transformer=Affine2D,\n",
    ")\n",
    "\n",
    "# Calculate the Affine transformation\n",
    "src_pts = np.array([[10, 10], [50, 10], [10, 50]], dtype=np.float32)\n",
    "dst_pts = np.array([[20, 20], [60, 20], [20, 60]], dtype=np.float32)\n",
    "transform = np.append(\n",
    "    (cv2.getAffineTransform(src_pts, dst_pts)),\n",
    "    [\n",
    "        [0, 0, 1],\n",
    "    ],\n",
    "    axis=0,\n",
    ")\n",
    "\n",
    "# Set transformation\n",
    "layer_ebsd.transformer.transformation_matrix = transform\n",
    "\n",
    "# Correct the distortion\n",
    "layer_ebsd.apply_transformation()"
   ]
  },
  {
   "cell_type": "markdown",
   "metadata": {},
   "source": [
    "You can use the \"Homography\" case generally, since the Affine transformation is special case of the Homography. But you cannot use the \"Affine2D\" class for all transformation matrices since not all Homography is Affine transformation. It means, the following code will yield an error. "
   ]
  },
  {
   "cell_type": "code",
   "execution_count": null,
   "metadata": {},
   "outputs": [],
   "source": [
    "# Initialize the layer object\n",
    "layer_ebsd = Layer(\n",
    "    data=column_parser(EBSD, format_string=\"dxydddddddd\"),\n",
    "    container=Container2D,\n",
    "    dataloader=XYDLoader,\n",
    "    transformer=Affine2D,\n",
    ")\n",
    "\n",
    "# Calculate the Affine transformation\n",
    "src_pts = np.array([[10, 10], [50, 10], [10, 50], [50, 50]], dtype=np.float32)\n",
    "dst_pts = np.array([[20, 20], [60, 20], [20, 60], [60, 60]], dtype=np.float32)\n",
    "transform = cv2.getPerspectiveTransform(src_pts, dst_pts)\n",
    "\n",
    "# Set transformation\n",
    "layer_ebsd.transformer.transformation_matrix = transform\n",
    "\n",
    "# Correct the distortion\n",
    "layer_ebsd.apply_transformation()"
   ]
  },
  {
   "cell_type": "markdown",
   "metadata": {},
   "source": [
    "## Some ways to find good homography\n",
    "### Iterative approach\n",
    "\n",
    "So, we are using Jupyter Notebook, right? We can easily see the code execution results iteratively. For example, you use matplotlib to see the result of homography, by manually changing `dst_point`. \n",
    "\n",
    "I know, this looks little too primitive. However, due to the heterogeneity of the data this is surprisingly effective. When you get into this you will get acceptable Homography within 10 ~ 15 iterations.\n",
    "\n",
    "You need to set good source points, such as four corner points. Since the EBSD data is rectangular, we can obtain these points using min and max methods. Make sure using `x_raw` and `y_raw` since we are dealing with source points."
   ]
  },
  {
   "cell_type": "code",
   "execution_count": null,
   "metadata": {},
   "outputs": [],
   "source": [
    "from pyxc.transform.homography import Homography\n",
    "import matplotlib.pyplot as plt  # HERE!\n",
    "\n",
    "# Initialize the layer object\n",
    "layer_ebsd = Layer(\n",
    "    data=column_parser(EBSD, format_string=\"dxydddddddd\"),\n",
    "    container=Container2D,\n",
    "    dataloader=XYDLoader,\n",
    "    transformer=Homography,\n",
    ")\n",
    "\n",
    "# Calculate the Affine transformation\n",
    "x_min = np.min(layer_ebsd.container[\"x_raw\"])\n",
    "x_max = np.max(layer_ebsd.container[\"x_raw\"])\n",
    "y_min = np.min(layer_ebsd.container[\"y_raw\"])\n",
    "y_max = np.max(layer_ebsd.container[\"y_raw\"])\n",
    "\n",
    "src_pts = np.array(\n",
    "    [[x_min, y_min], [x_max, y_min], [x_min, y_max], [x_max, y_max]], dtype=np.float32\n",
    ")"
   ]
  },
  {
   "cell_type": "markdown",
   "metadata": {},
   "source": [
    "Then, destination points should be properly set. This is up to you. Guess a good number! If you don't like the result? You can always adjust the points in dst_pts.\n",
    "\n",
    "Also, add a scatter plot to see the results."
   ]
  },
  {
   "cell_type": "code",
   "execution_count": null,
   "metadata": {},
   "outputs": [],
   "source": [
    "dst_pts = np.array(\n",
    "    [[10, 10], [50, 10], [20, 50], [75, 75]], dtype=np.float32\n",
    ")  # Change the value of this code\n",
    "transform = cv2.getPerspectiveTransform(src_pts, dst_pts)\n",
    "\n",
    "# Set transformation\n",
    "layer_ebsd.transformer.transformation_matrix = transform\n",
    "\n",
    "# Correct the distortion\n",
    "layer_ebsd.apply_transformation()\n",
    "\n",
    "plt.scatter(*layer_ebsd.get_xy(), c=layer_ebsd.container[\"Phase\"], s=1)"
   ]
  },
  {
   "cell_type": "markdown",
   "metadata": {},
   "source": [
    "Then, for example, you can adjust the destination point by your will."
   ]
  },
  {
   "cell_type": "code",
   "execution_count": null,
   "metadata": {},
   "outputs": [],
   "source": [
    "dst_pts = np.array(\n",
    "    [[10, 10], [50, 10], [-20, 50], [75, 75]], dtype=np.float32\n",
    ")  # Change the value of this code\n",
    "transform = cv2.getPerspectiveTransform(src_pts, dst_pts)\n",
    "\n",
    "# Set transformation\n",
    "layer_ebsd.transformer.transformation_matrix = transform\n",
    "\n",
    "# Correct the distortion\n",
    "layer_ebsd.apply_transformation()\n",
    "\n",
    "plt.scatter(*layer_ebsd.get_xy(), c=layer_ebsd.container[\"Phase\"], s=1)"
   ]
  },
  {
   "cell_type": "markdown",
   "metadata": {},
   "source": [
    "### Other methods\n",
    "Also, you can use other image processing software to find the location of source and destination points. I have tried several image processing softwares, such as ImageJ and Huginn. Both are good to extract control points **manually**."
   ]
  }
 ],
 "metadata": {
  "kernelspec": {
   "display_name": "Python 3 (ipykernel)",
   "language": "python",
   "name": "python3"
  },
  "language_info": {
   "codemirror_mode": {
    "name": "ipython",
    "version": 3
   },
   "file_extension": ".py",
   "mimetype": "text/x-python",
   "name": "python",
   "nbconvert_exporter": "python",
   "pygments_lexer": "ipython3"
  }
 },
 "nbformat": 4,
 "nbformat_minor": 1
}
