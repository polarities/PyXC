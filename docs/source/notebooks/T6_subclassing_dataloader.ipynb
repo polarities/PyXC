{
 "cells": [
  {
   "cell_type": "markdown",
   "id": "5974290572a88937",
   "metadata": {},
   "source": [
    "# Tutorial 6. Subclassing dataloader object\n",
    "## We need to populate the `Layer` object!\n",
    "In this tutorial, we will learn how to subclassify the `DataLoader` class. This is usually not necessary since the XYDLoader and ImageLoader already provide 95% of coverage for the scientific data format (author thinks). However, through this tutorial we will implement the `EBSDLoader` class to load EBSD data more conveniently.\n",
    "\n",
    "This library is highly modularized. Therefore, a central class to combine various functionalities offered by different classes is needed. The `Layer` object is exactly performing this operation.\n",
    "\n",
    "Let's start with the most important detail:\n",
    "\"The provided data is loaded to the container by the dataloader. The sampling distortion of the loaded data is corrected by the transformer\".\n",
    "\n",
    "At this moment, the only available container object is `Container2D`. The dedicated container for 3D-sampled data will be released later on. However, this means our goal is to populate the `Container2D` correctly. To do this, you will need to implement a correct `DataLoader` to process the provided data to the correct format.\n",
    "\n",
    "## First, let's visit thet Container2D object!\n",
    "The `Container2D` class can be initialized with the x, y, and data columns. x and y are 1-dimensional array-like objects, while the columns are structured arrays or 2-dimensional arrays. If the given data is not a structured array, column names are automatically determined, such as Channel_0, Channel_1, and so on.\n",
    "\n",
    "Container2D object is the subclass of the NumPy structured array. So you can use all NumPy functions that are working with Structured Arrays."
   ]
  },
  {
   "cell_type": "code",
   "execution_count": null,
   "id": "d0b0fbcc1cc320d5",
   "metadata": {},
   "outputs": [],
   "source": [
    "# Load data into the layer\n",
    "from pyxc.core.container import Container2D\n",
    "import numpy as np\n",
    "\n",
    "x = np.linspace(0, 1, 10)\n",
    "y = np.linspace(2, 10, 10)\n",
    "data = np.random.random((10, 3))\n",
    "example_container = Container2D(x_raw=x, y_raw=y, data=data)"
   ]
  },
  {
   "cell_type": "markdown",
   "id": "1181c7a3c2050db8",
   "metadata": {},
   "source": [
    "As you can see, example_container is now initialized correctly."
   ]
  },
  {
   "cell_type": "code",
   "execution_count": null,
   "id": "initial_id",
   "metadata": {},
   "outputs": [],
   "source": [
    "example_container"
   ]
  },
  {
   "cell_type": "markdown",
   "id": "129a6326c5ba3bbb",
   "metadata": {},
   "source": [
    "We haven't provided the structured array. Therefore, column names for the data are automatically determined such as Channel_0, Channel_1, and Channel_2."
   ]
  },
  {
   "cell_type": "code",
   "execution_count": null,
   "id": "8becb80827c764fb",
   "metadata": {},
   "outputs": [],
   "source": [
    "example_container.dtype.names"
   ]
  },
  {
   "cell_type": "markdown",
   "id": "ba466fc154ed1d31",
   "metadata": {},
   "source": [
    "## Subcalssing `DataLoader` class to load special data\n",
    "Okay, we've been used the example of EBSD data for a while. Let's make a data loader class to directly load the EBSD data. We will assume we need only X, Y, and Euler 1-3.\n",
    "\n",
    "By using the default XYDLoader, we are going to do this. Note that we have used `column_parser` to extract x, y, and data columns accordingly."
   ]
  },
  {
   "cell_type": "code",
   "execution_count": null,
   "id": "ece8a0fe3b873fa7",
   "metadata": {},
   "outputs": [],
   "source": [
    "# Load data into the layer\n",
    "from pyxc.core.layer import Layer\n",
    "from pyxc.core.processor.arrays import column_parser\n",
    "from pyxc.core.container import Container2D\n",
    "from pyxc.core.loader import ImageLoader, XYDLoader\n",
    "from pyxc.transform.homography import Homography\n",
    "\n",
    "EBSD = np.genfromtxt(\n",
    "    \"./data/SiC_in_NiSA.ctf\", dtype=float, skip_header=15, delimiter=\"\\t\", names=True\n",
    ")\n",
    "\n",
    "layer_ebsd = Layer(\n",
    "    data=column_parser(EBSD, format_string=\"dxy__ddd\", return_unspecified=False),\n",
    "    container=Container2D,\n",
    "    dataloader=XYDLoader,\n",
    "    transformer=Homography,\n",
    ")"
   ]
  },
  {
   "cell_type": "markdown",
   "id": "156eb6c27cb1f058",
   "metadata": {},
   "source": [
    "Similarily, we are able to put the whole parsing logic inside of the DataLoader class. Just implement the logic to the `prep()` method."
   ]
  },
  {
   "cell_type": "code",
   "execution_count": null,
   "id": "449d6e87b7891952",
   "metadata": {},
   "outputs": [],
   "source": [
    "from pyxc.core.loader import DataLoaderBase\n",
    "from pyxc.core.processor.arrays import xyd_splitter, column_parser\n",
    "\n",
    "\n",
    "class EBSDLoader(DataLoaderBase):\n",
    "    \"\"\"A subclass of DataLoaderBase for loading and preprocessing single or multichannel image data.\n",
    "    Image data is 2-dimensional array-like. It can be single channel, however it can be consisted of multiple channels.\n",
    "    \"\"\"\n",
    "\n",
    "    def prep(self, data):\n",
    "        x_serial, y_serial, prepped_data = xyd_splitter(\n",
    "            column_parser(data, \"dxy__ddd\", return_unspecified=False)\n",
    "        )\n",
    "        return x_serial.flatten(), y_serial.flatten(), prepped_data"
   ]
  },
  {
   "cell_type": "markdown",
   "id": "344fa1c89d67d8aa",
   "metadata": {},
   "source": [
    "Now you can see that the EBSDLoader class can directly handle the EBSD data."
   ]
  },
  {
   "cell_type": "code",
   "execution_count": null,
   "id": "656c88749e741fb0",
   "metadata": {},
   "outputs": [],
   "source": [
    "image = np.random.random((3, 3))\n",
    "EBSDLoader(Container2D, EBSD)()"
   ]
  }
 ],
 "metadata": {
  "kernelspec": {
   "display_name": "Python 3 (ipykernel)",
   "language": "python",
   "name": "python3"
  },
  "language_info": {
   "codemirror_mode": {
    "name": "ipython",
    "version": 3
   },
   "file_extension": ".py",
   "mimetype": "text/x-python",
   "name": "python",
   "nbconvert_exporter": "python",
   "pygments_lexer": "ipython3"
  }
 },
 "nbformat": 4,
 "nbformat_minor": 5
}
