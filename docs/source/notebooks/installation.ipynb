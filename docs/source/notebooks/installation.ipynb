{
 "cells": [
  {
   "cell_type": "markdown",
   "metadata": {},
   "source": [
    "# **PyXC Installation Guide**\n",
    "## **Requirements**\n",
    "### **Python Version**\n",
    "\n",
    "- `PyXC` is compatible with Python binaries of version `3.10` or newer.\n",
    "\n",
    "### **Dependencies**\n",
    "\n",
    "- `NumPy`\n",
    "- `SciPy`\n",
    "\n",
    "(For setting up a development environment, refer to the mentioned page which would provide additional details and possibly more required libraries.)\n",
    "\n",
    "### **Highly Recommended Libraries**\n",
    "\n",
    "While these libraries are not listed as official dependencies, they are specifically mentioned as necessary for working effectively with `PyXC`:\n",
    "\n",
    "- `Jupyter`: Provides an interactive notebook environment.\n",
    "- `Matplotlib`: A library for creating static, animated, and interactive visualizations in Python.\n",
    "\n",
    "## Installation\n",
    "The `PyXC` library is an actively developing package. It can be installed either directly from GitHub, ensuring the latest distribution, or from PyPI.\n",
    "\n",
    "### **1. Install from Git**\n",
    "This method provides the most up-to-date version, but keep in mind that it might contain bugs due to active development.\n",
    "\n",
    "```bash\n",
    "git clone -\n",
    "cd ./pyxc\n",
    "pip install -e .\n",
    "```\n",
    "\n",
    "### **2. Install from PyPI**\n",
    "(No instructions provided. You might typically use `pip install PyXC` if it's available on PyPI.)"
   ]
  }
 ],
 "metadata": {
  "kernelspec": {
   "display_name": "Python 3 (ipykernel)",
   "language": "python",
   "name": "python3"
  },
  "language_info": {
   "codemirror_mode": {
    "name": "ipython",
    "version": 3
   },
   "file_extension": ".py",
   "mimetype": "text/x-python",
   "name": "python",
   "nbconvert_exporter": "python",
   "pygments_lexer": "ipython3"
  }
 },
 "nbformat": 4,
 "nbformat_minor": 1
}
