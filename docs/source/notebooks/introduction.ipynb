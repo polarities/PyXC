{
 "cells": [
  {
   "cell_type": "markdown",
   "metadata": {},
   "source": [
    "# Introduction\n",
    "\n",
    "<div class=\"alert alert-info\">\n",
    "\n",
    "Info\n",
    "\n",
    "Please cite this library by citing the corresponding paper or Zenodo reference XXX \"\".\n",
    "\n",
    "</div>"
   ]
  },
  {
   "cell_type": "markdown",
   "metadata": {},
   "source": [
    "## About PyXC\n",
    "`PyXC` is a point-to-point correlation tool based on Python. This library aims for a self-documenting correlation library on top of the IPython environment."
   ]
  },
  {
   "cell_type": "markdown",
   "metadata": {},
   "source": [
    "## Purpose of this tool\n",
    "This library was initially developed for a correlation task between nano-indentation and EBSD measurements. The main targets of this tool are:\n",
    "\n",
    "- To provide a self-explaining correlation library based on the Jupyter Notebook environment.\n",
    "- To provide a flexible environment for correlation between 2-dimensionally sampled data."
   ]
  },
  {
   "cell_type": "markdown",
   "metadata": {},
   "source": [
    "## Common workflow\n",
    "To perform a correlation, several crucial steps are required to be cleared out. Correlation steps can be divided into four different parts. Each step is dealt with in a respective tutorial notebook.\n",
    "\n",
    "1. Parsing data from the data file.\n",
    "2. Loading data into the library.\n",
    "3. Correcting distortion between different measurements.\n",
    "4. Make a correlation."
   ]
  },
  {
   "cell_type": "markdown",
   "metadata": {},
   "source": [
    "## Usage\n",
    "This library is able to perform a coordinate-based correlation task which enables the correlation between different scientific data sets."
   ]
  },
  {
   "cell_type": "code",
   "execution_count": null,
   "metadata": {},
   "outputs": [],
   "source": [
    "# Load EBSD data\n",
    "import numpy as np\n",
    "\n",
    "EBSD = np.genfromtxt(\n",
    "    \"./data/SiC_in_NiSA.ctf\", dtype=float, skip_header=15, delimiter=\"\\t\", names=True\n",
    ")\n",
    "\n",
    "# Load data into the layer\n",
    "from pyxc.core.layer import Layer\n",
    "from pyxc.core.processor.arrays import column_parser\n",
    "from pyxc.core.container import Container2D\n",
    "from pyxc.core.loader import ImageLoader, XYDLoader\n",
    "from pyxc.transform.homography import Homography\n",
    "\n",
    "layer_ebsd = Layer(\n",
    "    data=column_parser(EBSD, format_string=\"dxydddddddd\"),\n",
    "    container=Container2D,\n",
    "    dataloader=XYDLoader,\n",
    "    transformer=Homography,\n",
    ")"
   ]
  },
  {
   "cell_type": "markdown",
   "metadata": {},
   "source": [
    "It can query the datapoints based on the given (x, y) coordinates."
   ]
  },
  {
   "cell_type": "code",
   "execution_count": null,
   "metadata": {},
   "outputs": [],
   "source": [
    "layer_ebsd.query(\n",
    "    3,\n",
    "    3,\n",
    "    cutoff=2,\n",
    "    output_number=5,\n",
    ")"
   ]
  },
  {
   "cell_type": "markdown",
   "metadata": {},
   "source": [
    "Query operation is based on the given (x, y) coordinates. The `cutoff` parameter is used to determine the maximum distance between the given (x, y) coordinates and the queried data points. The `output_number` parameter is used to determine the maximum number of data points to be returned."
   ]
  },
  {
   "cell_type": "code",
   "execution_count": null,
   "metadata": {},
   "outputs": [],
   "source": [
    "import matplotlib.pyplot as plt\n",
    "\n",
    "xy = (1, 1)\n",
    "cutoff = [0.5, 1, 2]\n",
    "output_number = [1, 10, 100]\n",
    "fig, ax = plt.subplots(3, 3, figsize=(10, 10), constrained_layout=True)\n",
    "\n",
    "for i, c in enumerate(cutoff):\n",
    "    for j, o in enumerate(output_number):\n",
    "        qr = layer_ebsd.query(*xy, cutoff=c, output_number=o)\n",
    "        ax[i, j].scatter(qr[\"x\"], qr[\"y\"], c=qr[\"BC\"], s=25, cmap=\"cividis\")\n",
    "        ax[i, j].set_title(f\"Cut-off: {c}, Output number: {o}\")\n",
    "        ax[i, j].set_aspect(1)\n",
    "\n",
    "        ax[i, j].scatter(*xy, marker=\"+\", color=\"Red\")\n",
    "\n",
    "        ax[i, j].add_patch(\n",
    "            plt.Circle(xy, radius=c, edgecolor=\"Blue\", facecolor=[0, 0, 0, 0])\n",
    "        )\n",
    "        ax[i, j].annotate(\n",
    "            \"Cut-off circle\", (xy[0], xy[1] + c), color=\"Blue\", ha=\"center\", va=\"bottom\"\n",
    "        )\n",
    "        ax[i, j].set_xlabel(\"X-coordinate\")\n",
    "        ax[i, j].set_ylabel(\"Y-coordinate\")\n",
    "        ax[i, j].set_aspect(1)\n",
    "\n",
    "        ax[i, j].set_xlim(-np.max(cutoff) * 1.5 + xy[0], np.max(cutoff) * 1.5 + xy[0])\n",
    "        ax[i, j].set_ylim(-np.max(cutoff) * 1.5 + xy[1], np.max(cutoff) * 1.5 + xy[1])"
   ]
  },
  {
   "cell_type": "markdown",
   "metadata": {},
   "source": [
    "You can use `Reducer` to reduce the number of data points to be returned. Especially good for the statistical analysis of the data."
   ]
  },
  {
   "cell_type": "code",
   "execution_count": null,
   "metadata": {},
   "outputs": [],
   "source": [
    "from pyxc.core.processor.reducer import Reducer\n",
    "import numpy as np\n",
    "\n",
    "layer_ebsd.query(3, 3, cutoff=5, output_number=1000, reducer=Reducer((np.mean,)))"
   ]
  }
 ],
 "metadata": {
  "kernelspec": {
   "display_name": "Python 3 (ipykernel)",
   "language": "python",
   "name": "python3"
  },
  "language_info": {
   "codemirror_mode": {
    "name": "ipython",
    "version": 3
   },
   "file_extension": ".py",
   "mimetype": "text/x-python",
   "name": "python",
   "nbconvert_exporter": "python",
   "pygments_lexer": "ipython3"
  }
 },
 "nbformat": 4,
 "nbformat_minor": 1
}
