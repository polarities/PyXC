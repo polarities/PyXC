{
 "cells": [
  {
   "cell_type": "markdown",
   "id": "7463a30eb3ab4845",
   "metadata": {},
   "source": [
    "# Tutorial 7. Subclassing Transformation object.\n",
    "\n",
    "At this moment, Affine transformation and Homography are implemeted. Therefore, subclassing transformation objects are not required.\n",
    "\n",
    "This part of tutorial will be supplied after the parametric transformation is implemented."
   ]
  }
 ],
 "metadata": {
  "kernelspec": {
   "display_name": "Python 3 (ipykernel)",
   "language": "python",
   "name": "python3"
  },
  "language_info": {
   "codemirror_mode": {
    "name": "ipython",
    "version": 3
   },
   "file_extension": ".py",
   "mimetype": "text/x-python",
   "name": "python",
   "nbconvert_exporter": "python",
   "pygments_lexer": "ipython3"
  }
 },
 "nbformat": 4,
 "nbformat_minor": 5
}
