{
 "cells": [
  {
   "cell_type": "markdown",
   "metadata": {},
   "source": [
    "# Tutorial 2. Loading data into the Layer object\n",
    "This section will cover how to properly subclass `DataLoader` class if specialized loader is required."
   ]
  },
  {
   "cell_type": "markdown",
   "metadata": {},
   "source": [
    "First, let's load the required data."
   ]
  },
  {
   "cell_type": "code",
   "execution_count": null,
   "metadata": {},
   "outputs": [],
   "source": [
    "# Load EBSD data\n",
    "import numpy as np\n",
    "\n",
    "EBSD = np.genfromtxt(\n",
    "    \"./data/SiC_in_NiSA.ctf\", dtype=float, skip_header=15, delimiter=\"\\t\", names=True\n",
    ")"
   ]
  },
  {
   "cell_type": "markdown",
   "metadata": {},
   "source": [
    "## Boilerplate\n",
    "We will deal with the low-level API first. This pattern will be used repetitively. It is possible to wrap this boilerplate to your own function for the enhanced convenience."
   ]
  },
  {
   "cell_type": "code",
   "execution_count": null,
   "metadata": {},
   "outputs": [],
   "source": [
    "# Load data into the layer\n",
    "from pyxc.core.layer import Layer\n",
    "from pyxc.core.processor.arrays import column_parser\n",
    "from pyxc.core.container import Container2D\n",
    "from pyxc.core.loader import ImageLoader, XYDLoader\n",
    "from pyxc.transform.homography import Homography\n",
    "\n",
    "layer_ebsd = Layer(\n",
    "    data=column_parser(EBSD, format_string=\"dxydddddddd\"),\n",
    "    container=Container2D,\n",
    "    dataloader=XYDLoader,\n",
    "    transformer=Homography,\n",
    ")"
   ]
  },
  {
   "cell_type": "markdown",
   "metadata": {},
   "source": [
    "## Using XYDLoader\n",
    "The XYDLoader object is useful to load 2-dimensional array-like data or structured arrays. It is required that the array's first and second columns contain numeral values of X and Y data. Therefore, to use XYDLoader, preparation of data to a proper format is important.\n",
    "\n",
    "### Using `column_parser` function\n",
    "The column parser function is the utility function to refine data. It reorders columns based on the provided format string. x and y means columns that contain x and y information, while _ means ignore. All other chracters are regarded data.\n",
    "\n",
    "#### 2-dimensional array-like\n",
    "Let's do continue with an example. First, 2-dimensional array-like."
   ]
  },
  {
   "cell_type": "code",
   "execution_count": null,
   "metadata": {},
   "outputs": [],
   "source": [
    "arr = np.random.random((3, 4))\n",
    "arr"
   ]
  },
  {
   "cell_type": "markdown",
   "metadata": {},
   "source": [
    "Let's assume we are setting the second and third columns as x and y, while the first column remains as data column. You can see, the x and y columns are moved to the first and second columns."
   ]
  },
  {
   "cell_type": "code",
   "execution_count": null,
   "metadata": {},
   "outputs": [],
   "source": [
    "column_parser(arr, \"dxy\")"
   ]
  },
  {
   "cell_type": "markdown",
   "metadata": {},
   "source": [
    "or, you can exclude some columns by specifying `_` or explicitly set `return_unspecified` to False."
   ]
  },
  {
   "cell_type": "code",
   "execution_count": null,
   "metadata": {},
   "outputs": [],
   "source": [
    "column_parser(arr, \"_dxy\")"
   ]
  },
  {
   "cell_type": "code",
   "execution_count": null,
   "metadata": {},
   "outputs": [],
   "source": [
    "column_parser(arr, \"dxy\", return_unspecified=False)"
   ]
  },
  {
   "cell_type": "markdown",
   "metadata": {},
   "source": [
    "#### Structured array\n",
    "For a structured array is works exactly same. Let's use ebsd data we've previously loaded. "
   ]
  },
  {
   "cell_type": "code",
   "execution_count": null,
   "metadata": {},
   "outputs": [],
   "source": [
    "EBSD"
   ]
  },
  {
   "cell_type": "markdown",
   "metadata": {},
   "source": [
    "Let's say, we need X, Y, Phase, Euler1, Euler2, Euler3. Then the format string should be `dxy__ddd`. Also we don't want to retrieve trailing MAD, BC, and BS, so we will explicitly specify 'return_unspecified' to False."
   ]
  },
  {
   "cell_type": "code",
   "execution_count": null,
   "metadata": {},
   "outputs": [],
   "source": [
    "column_parser(EBSD, \"dxy__ddd\", return_unspecified=False)"
   ]
  },
  {
   "cell_type": "markdown",
   "metadata": {},
   "source": [
    "Correctly processed data (with proper format string) is compatible with XYDLoader. You can load the data to the Layer."
   ]
  },
  {
   "cell_type": "code",
   "execution_count": null,
   "metadata": {},
   "outputs": [],
   "source": [
    "# Load data into the layer\n",
    "from pyxc.core.layer import Layer\n",
    "from pyxc.core.processor.arrays import column_parser\n",
    "from pyxc.core.container import Container2D\n",
    "from pyxc.core.loader import ImageLoader, XYDLoader\n",
    "from pyxc.transform.homography import Homography\n",
    "\n",
    "layer_ebsd = Layer(\n",
    "    data=column_parser(EBSD, format_string=\"dxy__ddd\", return_unspecified=False),\n",
    "    container=Container2D,\n",
    "    dataloader=XYDLoader,\n",
    "    transformer=Homography,\n",
    ")\n",
    "layer_ebsd.container"
   ]
  },
  {
   "cell_type": "markdown",
   "metadata": {},
   "source": [
    "## Loading image data\n",
    "Loading image data is very straightforward. Image data are 2- or 3-dimensional array-like objects with the shape of (i, j, k). Each channel of the image will be stored as serialized form, with the column name of `Channel_{integer}`. Let's make sample image data. Just use `ImageLoader`."
   ]
  },
  {
   "cell_type": "code",
   "execution_count": null,
   "metadata": {},
   "outputs": [],
   "source": [
    "im3channel = np.random.random((4, 4, 3))"
   ]
  },
  {
   "cell_type": "markdown",
   "metadata": {},
   "source": [
    "Then, we can easily load the data into the array."
   ]
  },
  {
   "cell_type": "code",
   "execution_count": null,
   "metadata": {},
   "outputs": [],
   "source": [
    "# Load data into the layer\n",
    "from pyxc.core.layer import Layer\n",
    "from pyxc.core.processor.arrays import column_parser\n",
    "from pyxc.core.container import Container2D\n",
    "from pyxc.core.loader import ImageLoader, XYDLoader\n",
    "from pyxc.transform.homography import Homography\n",
    "\n",
    "layer_im3c = Layer(\n",
    "    data=im3channel,\n",
    "    container=Container2D,\n",
    "    dataloader=ImageLoader,\n",
    "    transformer=Homography,\n",
    ")\n",
    "layer_im3c.container"
   ]
  },
  {
   "cell_type": "code",
   "execution_count": null,
   "metadata": {},
   "outputs": [],
   "source": [
    "x = np.linspace(0, 1, 10)\n",
    "y = np.linspace(2, 10, 10)\n",
    "data = np.random.random((10, 3))\n",
    "example_container = Container2D(x_raw=x, y_raw=y, data=data)"
   ]
  },
  {
   "cell_type": "markdown",
   "metadata": {},
   "source": [
    "As you can see, an example_container is now initialized correctly."
   ]
  },
  {
   "cell_type": "code",
   "execution_count": null,
   "metadata": {},
   "outputs": [],
   "source": [
    "example_container"
   ]
  },
  {
   "cell_type": "markdown",
   "metadata": {},
   "source": [
    "We didn't provide the structured array. Therefore, the column names for the data are automatically determined such as Channel_0, Channel_1, and Channel_2."
   ]
  },
  {
   "cell_type": "code",
   "execution_count": null,
   "metadata": {},
   "outputs": [],
   "source": [
    "example_container.dtype.names"
   ]
  }
 ],
 "metadata": {
  "kernelspec": {
   "display_name": "Python 3 (ipykernel)",
   "language": "python",
   "name": "python3"
  },
  "language_info": {
   "codemirror_mode": {
    "name": "ipython",
    "version": 3
   },
   "file_extension": ".py",
   "mimetype": "text/x-python",
   "name": "python",
   "nbconvert_exporter": "python",
   "pygments_lexer": "ipython3"
  }
 },
 "nbformat": 4,
 "nbformat_minor": 1
}
